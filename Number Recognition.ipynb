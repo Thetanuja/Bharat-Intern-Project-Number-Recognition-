{
 "cells": [
  {
   "cell_type": "markdown",
   "id": "99fd130e",
   "metadata": {},
   "source": [
    "# PROJECT : Number Recognition\n",
    "Name: Tanuja Gopale\n",
    "Email id :tanujawalunj1710@gmail.com, contact No.: 9356858216\n",
    "\n",
    "Linkedin ID:  https://www.linkedin.com/in/tanuja076/"
   ]
  },
  {
   "cell_type": "code",
   "execution_count": 1,
   "id": "06bc7c1e",
   "metadata": {},
   "outputs": [],
   "source": [
    "import pandas as pd\n",
    "import numpy as np"
   ]
  },
  {
   "cell_type": "code",
   "execution_count": 2,
   "id": "97e29c37",
   "metadata": {},
   "outputs": [],
   "source": [
    "%matplotlib inline\n",
    "import matplotlib.pyplot as plt\n",
    "\n",
    "import tensorflow\n",
    "from tensorflow import keras\n",
    "from tensorflow.keras import Sequential\n",
    "from tensorflow.keras.layers import Dense, Flatten, Dropout\n",
    "from keras.callbacks import EarlyStopping"
   ]
  },
  {
   "cell_type": "code",
   "execution_count": null,
   "id": "459560f1",
   "metadata": {},
   "outputs": [],
   "source": []
  },
  {
   "cell_type": "code",
   "execution_count": 3,
   "id": "12efd39a",
   "metadata": {},
   "outputs": [],
   "source": [
    "# Importing Data:\n",
    "\n",
    "from tensorflow.keras.datasets import mnist"
   ]
  },
  {
   "cell_type": "code",
   "execution_count": 4,
   "id": "336fc008",
   "metadata": {},
   "outputs": [],
   "source": [
    "# Splitting dataset into training and testing format:\n",
    "\n",
    "(X_train, y_train), (X_test, y_test) = keras.datasets.mnist.load_data()"
   ]
  },
  {
   "cell_type": "code",
   "execution_count": 5,
   "id": "2cdef754",
   "metadata": {},
   "outputs": [
    {
     "data": {
      "text/plain": [
       "(60000, 28, 28)"
      ]
     },
     "execution_count": 5,
     "metadata": {},
     "output_type": "execute_result"
    }
   ],
   "source": [
    "X_train.shape"
   ]
  },
  {
   "cell_type": "code",
   "execution_count": 6,
   "id": "42d19fb9",
   "metadata": {},
   "outputs": [
    {
     "data": {
      "text/plain": [
       "(10000, 28, 28)"
      ]
     },
     "execution_count": 6,
     "metadata": {},
     "output_type": "execute_result"
    }
   ],
   "source": [
    "# 10,000 images for testing:\n",
    "\n",
    "X_test.shape"
   ]
  },
  {
   "cell_type": "code",
   "execution_count": 7,
   "id": "88f6042b",
   "metadata": {},
   "outputs": [
    {
     "data": {
      "text/plain": [
       "array([5, 0, 4, ..., 5, 6, 8], dtype=uint8)"
      ]
     },
     "execution_count": 7,
     "metadata": {},
     "output_type": "execute_result"
    }
   ],
   "source": [
    "# Output labels of images:\n",
    "\n",
    "y_train"
   ]
  },
  {
   "cell_type": "code",
   "execution_count": 8,
   "id": "232cad2f",
   "metadata": {},
   "outputs": [],
   "source": [
    "# Using suffling method for keeping randomness in image selection:\n",
    "\n",
    "shuffle_index = np.random.permutation(60000)\n",
    "X_train, y_train = X_train[shuffle_index], y_train[shuffle_index]"
   ]
  },
  {
   "cell_type": "code",
   "execution_count": 9,
   "id": "8ee8b51f",
   "metadata": {},
   "outputs": [
    {
     "data": {
      "text/plain": [
       "(-0.5, 27.5, 27.5, -0.5)"
      ]
     },
     "execution_count": 9,
     "metadata": {},
     "output_type": "execute_result"
    },
    {
     "data": {
      "image/png": "[encoded data removed]",
      "text/plain": [
       "<Figure size 640x480 with 1 Axes>"
      ]
     },
     "metadata": {},
     "output_type": "display_data"
    }
   ],
   "source": [
    "# Displaying image by using matplot:\n",
    "\n",
    "plt.imshow(X_train[4000], cmap=\"binary\")\n",
    "plt.axis(\"off\")"
   ]
  },
  {
   "cell_type": "code",
   "execution_count": 10,
   "id": "c347bd73",
   "metadata": {},
   "outputs": [
    {
     "data": {
      "text/plain": [
       "array([[  0,   0,   0,   0,   0,   0,   0,   0,   0,   0,   0,   0,   0,\n",
       "          0,   0,   0,   0,   0,   0,   0,   0,   0,   0,   0,   0,   0,\n",
       "          0,   0],\n",
       "       [  0,   0,   0,   0,   0,   0,   0,   0,   0,   0,   0,   0,   0,\n",
       "          0,   0,   0,   0,   0,   0,   0,   0,   0,   0,   0,   0,   0,\n",
       "          0,   0],\n",
       "       [  0,   0,   0,   0,   0,   0,   0,   0,   0,   0,   0,   0,   0,\n",
       "          0,   0,   0,   0,   0,   0,   0,   0,   0,   0,   0,   0,   0,\n",
       "          0,   0],\n",
       "       [  0,   0,   0,   0,   0,   0,   0,   0,   0,   0,   0,   0,   0,\n",
       "          0,   0,   0,   0,   0,   0,   0,   0,   0,   0,   0,   0,   0,\n",
       "          0,   0],\n",
       "       [  0,   0,   0,   0,   0,   0,   0,   0,   0,   0,   0,   0,   0,\n",
       "          0,   0,   0,   0,   0,   0,   0,   0,   0,   0,   0,   0,   0,\n",
       "          0,   0],\n",
       "       [  0,   0,   0,   0,   0,   0,   0,   0,   0,   0,   0,   0,   0,\n",
       "          0,   0,   0,   0,   0,   0,   0,   0,   0,   0,   0,   0,   0,\n",
       "          0,   0],\n",
       "       [  0,   0,   0,   0,   0,   0,   0,   0,   0,   0,   0,   0,   0,\n",
       "          0,   0,   0,   0,   0,   0,   0,   0,   0,   0,   0,   0,   0,\n",
       "          0,   0],\n",
       "       [  0,   0,   0,   0,   0, 110, 253, 170, 253, 253, 211, 109, 109,\n",
       "        110, 109, 129, 253, 255, 253, 253, 253, 192, 191,  94,   0,   0,\n",
       "          0,   0],\n",
       "       [  0,   0,   0,   0,   0, 109, 252, 252, 252, 252, 252, 252, 252,\n",
       "        253, 252, 252, 252, 253, 252, 252, 252, 253, 252, 247,  93,   0,\n",
       "          0,   0],\n",
       "       [  0,   0,   0,   0,   0,  31,  71,  71,  71, 215, 215, 241, 252,\n",
       "        253, 252, 226,  71,  72,  71, 201, 252, 253, 252, 205,  31,   0,\n",
       "          0,   0],\n",
       "       [  0,   0,   0,   0,   0,   0,   0,   0,   0,   0,   0,  78, 108,\n",
       "        108, 108,  92,   0,   1,  42, 221, 252, 253, 210,  31,   0,   0,\n",
       "          0,   0],\n",
       "       [  0,   0,   0,   0,   0,   0,   0,   0,   0,   0,   0,   0,   0,\n",
       "          0,   0,   0,   0, 171, 252, 252, 252, 144,  20,   0,   0,   0,\n",
       "          0,   0],\n",
       "       [  0,   0,   0,   0,   0,   0,   0,   0,   0,   0,   0,   0,   0,\n",
       "          0,   0,  11, 155, 253, 252, 241,  97,   0,   0,   0,   0,   0,\n",
       "          0,   0],\n",
       "       [  0,   0,   0,   0,   0,   0,   0,   0,   0,   0,   0,   0,   0,\n",
       "          0,   0,  58, 252, 253, 252, 112,   0,   0,   0,   0,   0,   0,\n",
       "          0,   0],\n",
       "       [  0,   0,   0,   0,   0,   0,   0,   0,   0,   0,   0,   0,   0,\n",
       "          0,  42, 221, 252, 253, 210,  31,   0,   0,   0,   0,   0,   0,\n",
       "          0,   0],\n",
       "       [  0,   0,   0,   0,   0,   0,   0,   0,   0,   0,   0,   0,   0,\n",
       "          0, 218, 253, 253, 145,   0,   0,   0,   0,   0,   0,   0,   0,\n",
       "          0,   0],\n",
       "       [  0,   0,   0,   0,   0,   0,   0,   0,   0,   0,   0,   0,   0,\n",
       "         94, 247, 252, 210,  20,   0,   0,   0,   0,   0,   0,   0,   0,\n",
       "          0,   0],\n",
       "       [  0,   0,   0,   0,   0,   0,   0,   0,   0,   0,   0,   0, 105,\n",
       "        212, 252, 226,  31,   0,   0,   0,   0,   0,   0,   0,   0,   0,\n",
       "          0,   0],\n",
       "       [  0,   0,   0,   0,   0,   0,   0,   0,   0,   0,   0,   0, 144,\n",
       "        253, 252, 132,   0,   0,   0,   0,   0,   0,   0,   0,   0,   0,\n",
       "          0,   0],\n",
       "       [  0,   0,   0,   0,   0,   0,   0,   0,   0,   0,   0,  37, 253,\n",
       "        255, 159,  41,   0,   0,   0,   0,   0,   0,   0,   0,   0,   0,\n",
       "          0,   0],\n",
       "       [  0,   0,   0,   0,   0,   0,   0,   0,   0,   0, 105, 222, 252,\n",
       "        222,  25,   0,   0,   0,   0,   0,   0,   0,   0,   0,   0,   0,\n",
       "          0,   0],\n",
       "       [  0,   0,   0,   0,   0,   0,   0,   0,   1, 181, 242, 252, 231,\n",
       "        125,   0,   0,   0,   0,   0,   0,   0,   0,   0,   0,   0,   0,\n",
       "          0,   0],\n",
       "       [  0,   0,   0,   0,   0,   0,   0,   0,  84, 252, 252, 252, 108,\n",
       "          0,   0,   0,   0,   0,   0,   0,   0,   0,   0,   0,   0,   0,\n",
       "          0,   0],\n",
       "       [  0,   0,   0,   0,   0,   0,   0, 182, 253, 253, 253, 154,   0,\n",
       "          0,   0,   0,   0,   0,   0,   0,   0,   0,   0,   0,   0,   0,\n",
       "          0,   0],\n",
       "       [  0,   0,   0,   0,   0,   0,  63, 242, 252, 252, 148,  10,   0,\n",
       "          0,   0,   0,   0,   0,   0,   0,   0,   0,   0,   0,   0,   0,\n",
       "          0,   0],\n",
       "       [  0,   0,   0,   0,   0,   0, 155, 252, 252, 236,  30,   0,   0,\n",
       "          0,   0,   0,   0,   0,   0,   0,   0,   0,   0,   0,   0,   0,\n",
       "          0,   0],\n",
       "       [  0,   0,   0,   0,   0,   0,  73, 252, 252,  62,   0,   0,   0,\n",
       "          0,   0,   0,   0,   0,   0,   0,   0,   0,   0,   0,   0,   0,\n",
       "          0,   0],\n",
       "       [  0,   0,   0,   0,   0,   0,   0,   0,   0,   0,   0,   0,   0,\n",
       "          0,   0,   0,   0,   0,   0,   0,   0,   0,   0,   0,   0,   0,\n",
       "          0,   0]], dtype=uint8)"
      ]
     },
     "execution_count": 10,
     "metadata": {},
     "output_type": "execute_result"
    }
   ],
   "source": [
    "# Pixel values for the selected images:\n",
    "\n",
    "X_train[4000]"
   ]
  },
  {
   "cell_type": "code",
   "execution_count": 11,
   "id": "4327fa49",
   "metadata": {},
   "outputs": [],
   "source": [
    "# Normalizing pixel values of all images:\n",
    "\n",
    "X_train = X_train/255\n",
    "X_test = X_test/255"
   ]
  },
  {
   "cell_type": "code",
   "execution_count": 12,
   "id": "8f54d6a1",
   "metadata": {},
   "outputs": [
    {
     "data": {
      "text/plain": [
       "array([[0.        , 0.        , 0.        , 0.        , 0.        ,\n",
       "        0.        , 0.        , 0.        , 0.        , 0.        ,\n",
       "        0.        , 0.        , 0.        , 0.        , 0.        ,\n",
       "        0.        , 0.        , 0.        , 0.        , 0.        ,\n",
       "        0.        , 0.        , 0.        , 0.        , 0.        ,\n",
       "        0.        , 0.        , 0.        ],\n",
       "       [0.        , 0.        , 0.        , 0.        , 0.        ,\n",
       "        0.        , 0.        , 0.        , 0.        , 0.        ,\n",
       "        0.        , 0.        , 0.        , 0.        , 0.        ,\n",
       "        0.        , 0.        , 0.        , 0.        , 0.        ,\n",
       "        0.        , 0.        , 0.        , 0.        , 0.        ,\n",
       "        0.        , 0.        , 0.        ],\n",
       "       [0.        , 0.        , 0.        , 0.        , 0.        ,\n",
       "        0.        , 0.        , 0.        , 0.        , 0.        ,\n",
       "        0.        , 0.        , 0.        , 0.        , 0.        ,\n",
       "        0.        , 0.        , 0.        , 0.        , 0.        ,\n",
       "        0.        , 0.        , 0.        , 0.        , 0.        ,\n",
       "        0.        , 0.        , 0.        ],\n",
       "       [0.        , 0.        , 0.        , 0.        , 0.        ,\n",
       "        0.        , 0.        , 0.        , 0.        , 0.        ,\n",
       "        0.        , 0.        , 0.        , 0.        , 0.        ,\n",
       "        0.        , 0.        , 0.        , 0.        , 0.        ,\n",
       "        0.        , 0.        , 0.        , 0.        , 0.        ,\n",
       "        0.        , 0.        , 0.        ],\n",
       "       [0.        , 0.        , 0.        , 0.        , 0.        ,\n",
       "        0.        , 0.        , 0.        , 0.        , 0.        ,\n",
       "        0.        , 0.        , 0.        , 0.        , 0.        ,\n",
       "        0.        , 0.        , 0.        , 0.        , 0.        ,\n",
       "        0.        , 0.        , 0.        , 0.        , 0.        ,\n",
       "        0.        , 0.        , 0.        ],\n",
       "       [0.        , 0.        , 0.        , 0.        , 0.        ,\n",
       "        0.        , 0.        , 0.        , 0.        , 0.        ,\n",
       "        0.        , 0.        , 0.        , 0.        , 0.        ,\n",
       "        0.        , 0.        , 0.        , 0.        , 0.        ,\n",
       "        0.        , 0.        , 0.        , 0.        , 0.        ,\n",
       "        0.        , 0.        , 0.        ],\n",
       "       [0.        , 0.        , 0.        , 0.        , 0.        ,\n",
       "        0.        , 0.        , 0.        , 0.        , 0.        ,\n",
       "        0.        , 0.        , 0.        , 0.        , 0.        ,\n",
       "        0.        , 0.        , 0.        , 0.        , 0.        ,\n",
       "        0.        , 0.        , 0.        , 0.        , 0.        ,\n",
       "        0.        , 0.        , 0.        ],\n",
       "       [0.        , 0.        , 0.        , 0.        , 0.        ,\n",
       "        0.43137255, 0.99215686, 0.66666667, 0.99215686, 0.99215686,\n",
       "        0.82745098, 0.42745098, 0.42745098, 0.43137255, 0.42745098,\n",
       "        0.50588235, 0.99215686, 1.        , 0.99215686, 0.99215686,\n",
       "        0.99215686, 0.75294118, 0.74901961, 0.36862745, 0.        ,\n",
       "        0.        , 0.        , 0.        ],\n",
       "       [0.        , 0.        , 0.        , 0.        , 0.        ,\n",
       "        0.42745098, 0.98823529, 0.98823529, 0.98823529, 0.98823529,\n",
       "        0.98823529, 0.98823529, 0.98823529, 0.99215686, 0.98823529,\n",
       "        0.98823529, 0.98823529, 0.99215686, 0.98823529, 0.98823529,\n",
       "        0.98823529, 0.99215686, 0.98823529, 0.96862745, 0.36470588,\n",
       "        0.        , 0.        , 0.        ],\n",
       "       [0.        , 0.        , 0.        , 0.        , 0.        ,\n",
       "        0.12156863, 0.27843137, 0.27843137, 0.27843137, 0.84313725,\n",
       "        0.84313725, 0.94509804, 0.98823529, 0.99215686, 0.98823529,\n",
       "        0.88627451, 0.27843137, 0.28235294, 0.27843137, 0.78823529,\n",
       "        0.98823529, 0.99215686, 0.98823529, 0.80392157, 0.12156863,\n",
       "        0.        , 0.        , 0.        ],\n",
       "       [0.        , 0.        , 0.        , 0.        , 0.        ,\n",
       "        0.        , 0.        , 0.        , 0.        , 0.        ,\n",
       "        0.        , 0.30588235, 0.42352941, 0.42352941, 0.42352941,\n",
       "        0.36078431, 0.        , 0.00392157, 0.16470588, 0.86666667,\n",
       "        0.98823529, 0.99215686, 0.82352941, 0.12156863, 0.        ,\n",
       "        0.        , 0.        , 0.        ],\n",
       "       [0.        , 0.        , 0.        , 0.        , 0.        ,\n",
       "        0.        , 0.        , 0.        , 0.        , 0.        ,\n",
       "        0.        , 0.        , 0.        , 0.        , 0.        ,\n",
       "        0.        , 0.        , 0.67058824, 0.98823529, 0.98823529,\n",
       "        0.98823529, 0.56470588, 0.07843137, 0.        , 0.        ,\n",
       "        0.        , 0.        , 0.        ],\n",
       "       [0.        , 0.        , 0.        , 0.        , 0.        ,\n",
       "        0.        , 0.        , 0.        , 0.        , 0.        ,\n",
       "        0.        , 0.        , 0.        , 0.        , 0.        ,\n",
       "        0.04313725, 0.60784314, 0.99215686, 0.98823529, 0.94509804,\n",
       "        0.38039216, 0.        , 0.        , 0.        , 0.        ,\n",
       "        0.        , 0.        , 0.        ],\n",
       "       [0.        , 0.        , 0.        , 0.        , 0.        ,\n",
       "        0.        , 0.        , 0.        , 0.        , 0.        ,\n",
       "        0.        , 0.        , 0.        , 0.        , 0.        ,\n",
       "        0.22745098, 0.98823529, 0.99215686, 0.98823529, 0.43921569,\n",
       "        0.        , 0.        , 0.        , 0.        , 0.        ,\n",
       "        0.        , 0.        , 0.        ],\n",
       "       [0.        , 0.        , 0.        , 0.        , 0.        ,\n",
       "        0.        , 0.        , 0.        , 0.        , 0.        ,\n",
       "        0.        , 0.        , 0.        , 0.        , 0.16470588,\n",
       "        0.86666667, 0.98823529, 0.99215686, 0.82352941, 0.12156863,\n",
       "        0.        , 0.        , 0.        , 0.        , 0.        ,\n",
       "        0.        , 0.        , 0.        ],\n",
       "       [0.        , 0.        , 0.        , 0.        , 0.        ,\n",
       "        0.        , 0.        , 0.        , 0.        , 0.        ,\n",
       "        0.        , 0.        , 0.        , 0.        , 0.85490196,\n",
       "        0.99215686, 0.99215686, 0.56862745, 0.        , 0.        ,\n",
       "        0.        , 0.        , 0.        , 0.        , 0.        ,\n",
       "        0.        , 0.        , 0.        ],\n",
       "       [0.        , 0.        , 0.        , 0.        , 0.        ,\n",
       "        0.        , 0.        , 0.        , 0.        , 0.        ,\n",
       "        0.        , 0.        , 0.        , 0.36862745, 0.96862745,\n",
       "        0.98823529, 0.82352941, 0.07843137, 0.        , 0.        ,\n",
       "        0.        , 0.        , 0.        , 0.        , 0.        ,\n",
       "        0.        , 0.        , 0.        ],\n",
       "       [0.        , 0.        , 0.        , 0.        , 0.        ,\n",
       "        0.        , 0.        , 0.        , 0.        , 0.        ,\n",
       "        0.        , 0.        , 0.41176471, 0.83137255, 0.98823529,\n",
       "        0.88627451, 0.12156863, 0.        , 0.        , 0.        ,\n",
       "        0.        , 0.        , 0.        , 0.        , 0.        ,\n",
       "        0.        , 0.        , 0.        ],\n",
       "       [0.        , 0.        , 0.        , 0.        , 0.        ,\n",
       "        0.        , 0.        , 0.        , 0.        , 0.        ,\n",
       "        0.        , 0.        , 0.56470588, 0.99215686, 0.98823529,\n",
       "        0.51764706, 0.        , 0.        , 0.        , 0.        ,\n",
       "        0.        , 0.        , 0.        , 0.        , 0.        ,\n",
       "        0.        , 0.        , 0.        ],\n",
       "       [0.        , 0.        , 0.        , 0.        , 0.        ,\n",
       "        0.        , 0.        , 0.        , 0.        , 0.        ,\n",
       "        0.        , 0.14509804, 0.99215686, 1.        , 0.62352941,\n",
       "        0.16078431, 0.        , 0.        , 0.        , 0.        ,\n",
       "        0.        , 0.        , 0.        , 0.        , 0.        ,\n",
       "        0.        , 0.        , 0.        ],\n",
       "       [0.        , 0.        , 0.        , 0.        , 0.        ,\n",
       "        0.        , 0.        , 0.        , 0.        , 0.        ,\n",
       "        0.41176471, 0.87058824, 0.98823529, 0.87058824, 0.09803922,\n",
       "        0.        , 0.        , 0.        , 0.        , 0.        ,\n",
       "        0.        , 0.        , 0.        , 0.        , 0.        ,\n",
       "        0.        , 0.        , 0.        ],\n",
       "       [0.        , 0.        , 0.        , 0.        , 0.        ,\n",
       "        0.        , 0.        , 0.        , 0.00392157, 0.70980392,\n",
       "        0.94901961, 0.98823529, 0.90588235, 0.49019608, 0.        ,\n",
       "        0.        , 0.        , 0.        , 0.        , 0.        ,\n",
       "        0.        , 0.        , 0.        , 0.        , 0.        ,\n",
       "        0.        , 0.        , 0.        ],\n",
       "       [0.        , 0.        , 0.        , 0.        , 0.        ,\n",
       "        0.        , 0.        , 0.        , 0.32941176, 0.98823529,\n",
       "        0.98823529, 0.98823529, 0.42352941, 0.        , 0.        ,\n",
       "        0.        , 0.        , 0.        , 0.        , 0.        ,\n",
       "        0.        , 0.        , 0.        , 0.        , 0.        ,\n",
       "        0.        , 0.        , 0.        ],\n",
       "       [0.        , 0.        , 0.        , 0.        , 0.        ,\n",
       "        0.        , 0.        , 0.71372549, 0.99215686, 0.99215686,\n",
       "        0.99215686, 0.60392157, 0.        , 0.        , 0.        ,\n",
       "        0.        , 0.        , 0.        , 0.        , 0.        ,\n",
       "        0.        , 0.        , 0.        , 0.        , 0.        ,\n",
       "        0.        , 0.        , 0.        ],\n",
       "       [0.        , 0.        , 0.        , 0.        , 0.        ,\n",
       "        0.        , 0.24705882, 0.94901961, 0.98823529, 0.98823529,\n",
       "        0.58039216, 0.03921569, 0.        , 0.        , 0.        ,\n",
       "        0.        , 0.        , 0.        , 0.        , 0.        ,\n",
       "        0.        , 0.        , 0.        , 0.        , 0.        ,\n",
       "        0.        , 0.        , 0.        ],\n",
       "       [0.        , 0.        , 0.        , 0.        , 0.        ,\n",
       "        0.        , 0.60784314, 0.98823529, 0.98823529, 0.9254902 ,\n",
       "        0.11764706, 0.        , 0.        , 0.        , 0.        ,\n",
       "        0.        , 0.        , 0.        , 0.        , 0.        ,\n",
       "        0.        , 0.        , 0.        , 0.        , 0.        ,\n",
       "        0.        , 0.        , 0.        ],\n",
       "       [0.        , 0.        , 0.        , 0.        , 0.        ,\n",
       "        0.        , 0.28627451, 0.98823529, 0.98823529, 0.24313725,\n",
       "        0.        , 0.        , 0.        , 0.        , 0.        ,\n",
       "        0.        , 0.        , 0.        , 0.        , 0.        ,\n",
       "        0.        , 0.        , 0.        , 0.        , 0.        ,\n",
       "        0.        , 0.        , 0.        ],\n",
       "       [0.        , 0.        , 0.        , 0.        , 0.        ,\n",
       "        0.        , 0.        , 0.        , 0.        , 0.        ,\n",
       "        0.        , 0.        , 0.        , 0.        , 0.        ,\n",
       "        0.        , 0.        , 0.        , 0.        , 0.        ,\n",
       "        0.        , 0.        , 0.        , 0.        , 0.        ,\n",
       "        0.        , 0.        , 0.        ]])"
      ]
     },
     "execution_count": 12,
     "metadata": {},
     "output_type": "execute_result"
    }
   ],
   "source": [
    "# Here we can see the difference, all values are between 0 to 1:\n",
    "\n",
    "X_train[4000]"
   ]
  },
  {
   "cell_type": "code",
   "execution_count": 13,
   "id": "4f507477",
   "metadata": {},
   "outputs": [],
   "source": [
    "# Neural Network:\n",
    "\n",
    "model = Sequential()\n",
    "model.add(Flatten(input_shape=(28,28)))     # Image format in 28X28 pixels\n",
    "model.add(Dropout(0.2))\n",
    "model.add(Dense(128,activation=\"relu\"))     # Hidden Layers\n",
    "model.add(Dropout(0.2))                     # To reduce Noise\n",
    "model.add(Dense(64,activation=\"relu\"))\n",
    "model.add(Dropout(0.2))\n",
    "model.add(Dense(10,activation=\"softmax\"))   # For Multiclass classification"
   ]
  },
  {
   "cell_type": "code",
   "execution_count": 14,
   "id": "ba961924",
   "metadata": {},
   "outputs": [
    {
     "name": "stdout",
     "output_type": "stream",
     "text": [
      "Model: \"sequential\"\n",
      "_________________________________________________________________\n",
      " Layer (type)                Output Shape              Param #   \n",
      "=================================================================\n",
      " flatten (Flatten)           (None, 784)               0         \n",
      "                                                                 \n",
      " dropout (Dropout)           (None, 784)               0         \n",
      "                                                                 \n",
      " dense (Dense)               (None, 128)               100480    \n",
      "                                                                 \n",
      " dropout_1 (Dropout)         (None, 128)               0         \n",
      "                                                                 \n",
      " dense_1 (Dense)             (None, 64)                8256      \n",
      "                                                                 \n",
      " dropout_2 (Dropout)         (None, 64)                0         \n",
      "                                                                 \n",
      " dense_2 (Dense)             (None, 10)                650       \n",
      "                                                                 \n",
      "=================================================================\n",
      "Total params: 109,386\n",
      "Trainable params: 109,386\n",
      "Non-trainable params: 0\n",
      "_________________________________________________________________\n"
     ]
    }
   ],
   "source": [
    "# Model summary:\n",
    "\n",
    "model.summary()"
   ]
  },
  {
   "cell_type": "code",
   "execution_count": 15,
   "id": "3874455f",
   "metadata": {},
   "outputs": [],
   "source": [
    "# Compiling a model by giving loss funtions and all:\n",
    "\n",
    "model.compile(optimizer='adam', loss='sparse_categorical_crossentropy', metrics = ['accuracy'])"
   ]
  },
  {
   "cell_type": "code",
   "execution_count": 16,
   "id": "ac2500a2",
   "metadata": {},
   "outputs": [
    {
     "name": "stdout",
     "output_type": "stream",
     "text": [
      "Epoch 1/25\n",
      "750/750 [==============================] - 8s 7ms/step - loss: 0.4824 - accuracy: 0.8505 - val_loss: 0.1825 - val_accuracy: 0.9447\n",
      "Epoch 2/25\n",
      "750/750 [==============================] - 5s 7ms/step - loss: 0.2349 - accuracy: 0.9293 - val_loss: 0.1299 - val_accuracy: 0.9607\n",
      "Epoch 3/25\n",
      "750/750 [==============================] - 5s 7ms/step - loss: 0.1873 - accuracy: 0.9421 - val_loss: 0.1118 - val_accuracy: 0.9656\n",
      "Epoch 4/25\n",
      "750/750 [==============================] - 5s 6ms/step - loss: 0.1602 - accuracy: 0.9510 - val_loss: 0.1025 - val_accuracy: 0.9697\n",
      "Epoch 5/25\n",
      "750/750 [==============================] - 5s 7ms/step - loss: 0.1436 - accuracy: 0.9558 - val_loss: 0.0883 - val_accuracy: 0.9730\n",
      "Epoch 6/25\n",
      "750/750 [==============================] - 5s 7ms/step - loss: 0.1271 - accuracy: 0.9608 - val_loss: 0.0845 - val_accuracy: 0.9744\n",
      "Epoch 7/25\n",
      "750/750 [==============================] - 5s 7ms/step - loss: 0.1194 - accuracy: 0.9627 - val_loss: 0.0833 - val_accuracy: 0.9754\n",
      "Epoch 8/25\n",
      "750/750 [==============================] - 5s 7ms/step - loss: 0.1124 - accuracy: 0.9644 - val_loss: 0.0764 - val_accuracy: 0.9766\n",
      "Epoch 9/25\n",
      "750/750 [==============================] - 5s 7ms/step - loss: 0.1057 - accuracy: 0.9664 - val_loss: 0.0751 - val_accuracy: 0.9768\n",
      "Epoch 10/25\n",
      "750/750 [==============================] - 5s 7ms/step - loss: 0.1028 - accuracy: 0.9683 - val_loss: 0.0793 - val_accuracy: 0.9757\n",
      "Epoch 11/25\n",
      "750/750 [==============================] - 5s 7ms/step - loss: 0.0987 - accuracy: 0.9684 - val_loss: 0.0764 - val_accuracy: 0.9767\n",
      "Epoch 12/25\n",
      "750/750 [==============================] - 6s 7ms/step - loss: 0.0926 - accuracy: 0.9708 - val_loss: 0.0771 - val_accuracy: 0.9778\n",
      "Epoch 13/25\n",
      "750/750 [==============================] - 5s 7ms/step - loss: 0.0869 - accuracy: 0.9722 - val_loss: 0.0769 - val_accuracy: 0.9778\n",
      "Epoch 14/25\n",
      "750/750 [==============================] - 5s 7ms/step - loss: 0.0861 - accuracy: 0.9733 - val_loss: 0.0740 - val_accuracy: 0.9782\n",
      "Epoch 15/25\n",
      "750/750 [==============================] - 5s 7ms/step - loss: 0.0861 - accuracy: 0.9723 - val_loss: 0.0718 - val_accuracy: 0.9787\n",
      "Epoch 16/25\n",
      "750/750 [==============================] - 5s 7ms/step - loss: 0.0802 - accuracy: 0.9741 - val_loss: 0.0768 - val_accuracy: 0.9787\n",
      "Epoch 17/25\n",
      "750/750 [==============================] - 5s 7ms/step - loss: 0.0829 - accuracy: 0.9735 - val_loss: 0.0680 - val_accuracy: 0.9803\n",
      "Epoch 18/25\n",
      "750/750 [==============================] - 5s 7ms/step - loss: 0.0759 - accuracy: 0.9755 - val_loss: 0.0759 - val_accuracy: 0.9786\n",
      "Epoch 19/25\n",
      "750/750 [==============================] - 5s 7ms/step - loss: 0.0746 - accuracy: 0.9760 - val_loss: 0.0759 - val_accuracy: 0.9803\n",
      "Epoch 20/25\n",
      "750/750 [==============================] - 5s 7ms/step - loss: 0.0748 - accuracy: 0.9766 - val_loss: 0.0738 - val_accuracy: 0.9796\n",
      "Epoch 21/25\n",
      "750/750 [==============================] - 5s 7ms/step - loss: 0.0725 - accuracy: 0.9774 - val_loss: 0.0700 - val_accuracy: 0.9797\n",
      "Epoch 22/25\n",
      "750/750 [==============================] - 5s 7ms/step - loss: 0.0710 - accuracy: 0.9770 - val_loss: 0.0688 - val_accuracy: 0.9812\n",
      "Epoch 23/25\n",
      "750/750 [==============================] - 5s 7ms/step - loss: 0.0695 - accuracy: 0.9783 - val_loss: 0.0762 - val_accuracy: 0.9799\n",
      "Epoch 24/25\n",
      "750/750 [==============================] - 6s 9ms/step - loss: 0.0683 - accuracy: 0.9774 - val_loss: 0.0685 - val_accuracy: 0.9806\n",
      "Epoch 25/25\n",
      "750/750 [==============================] - 5s 7ms/step - loss: 0.0686 - accuracy: 0.9771 - val_loss: 0.0727 - val_accuracy: 0.9801\n"
     ]
    }
   ],
   "source": [
    "history = model.fit(X_train, y_train, epochs=25, batch_size=64, validation_split=0.2)"
   ]
  },
  {
   "cell_type": "code",
   "execution_count": 17,
   "id": "67287044",
   "metadata": {},
   "outputs": [
    {
     "name": "stdout",
     "output_type": "stream",
     "text": [
      "313/313 [==============================] - 1s 2ms/step\n"
     ]
    }
   ],
   "source": [
    "# Running created model on test image dataset:\n",
    "\n",
    "y_prob = model.predict(X_test)"
   ]
  },
  {
   "cell_type": "code",
   "execution_count": 18,
   "id": "6f05d930",
   "metadata": {},
   "outputs": [
    {
     "data": {
      "text/plain": [
       "array([[1.91827731e-09, 3.24514804e-10, 2.82573524e-06, ...,\n",
       "        9.99967575e-01, 1.20914390e-08, 1.02651948e-05],\n",
       "       [2.77497955e-11, 1.78132165e-09, 1.00000000e+00, ...,\n",
       "        4.12712781e-11, 4.32463398e-10, 4.11291681e-20],\n",
       "       [3.65725561e-10, 9.99972820e-01, 2.09421614e-07, ...,\n",
       "        4.30013370e-06, 2.09812461e-05, 5.17933856e-08],\n",
       "       ...,\n",
       "       [1.65267241e-14, 5.22621113e-10, 4.64476756e-11, ...,\n",
       "        2.08097063e-07, 6.40902131e-09, 3.45900787e-07],\n",
       "       [3.10826256e-12, 3.92357501e-11, 3.41669776e-15, ...,\n",
       "        1.72680516e-11, 1.26155976e-06, 1.65835892e-13],\n",
       "       [1.62953800e-11, 2.15032032e-16, 7.96586755e-13, ...,\n",
       "        2.57784712e-19, 1.00068946e-10, 2.04355434e-16]], dtype=float32)"
      ]
     },
     "execution_count": 18,
     "metadata": {},
     "output_type": "execute_result"
    }
   ],
   "source": [
    "# Showing maximum possibility of label will occure:\n",
    "\n",
    "y_prob"
   ]
  },
  {
   "cell_type": "code",
   "execution_count": 19,
   "id": "d9df8730",
   "metadata": {},
   "outputs": [],
   "source": [
    "# Return the indices of the max elements by using argmax function:\n",
    "\n",
    "y_pred = y_prob.argmax(axis=1)"
   ]
  },
  {
   "cell_type": "code",
   "execution_count": 20,
   "id": "4c8e0e71",
   "metadata": {},
   "outputs": [
    {
     "data": {
      "text/plain": [
       "array([7, 2, 1, ..., 4, 5, 6], dtype=int64)"
      ]
     },
     "execution_count": 20,
     "metadata": {},
     "output_type": "execute_result"
    }
   ],
   "source": [
    "y_pred"
   ]
  },
  {
   "cell_type": "code",
   "execution_count": 21,
   "id": "907266e2",
   "metadata": {},
   "outputs": [
    {
     "name": "stdout",
     "output_type": "stream",
     "text": [
      "Accuracy: 0.9803\n"
     ]
    }
   ],
   "source": [
    "# Accuracy of model for testing:\n",
    "\n",
    "from sklearn.metrics import accuracy_score\n",
    "print(f\"Accuracy:\",accuracy_score(y_test, y_pred))"
   ]
  },
  {
   "cell_type": "code",
   "execution_count": 22,
   "id": "01692179",
   "metadata": {},
   "outputs": [
    {
     "data": {
      "text/plain": [
       "[<matplotlib.lines.Line2D at 0x2afb4759720>]"
      ]
     },
     "execution_count": 22,
     "metadata": {},
     "output_type": "execute_result"
    },
    {
     "data": {
      "image/png": "[encoded data removed]",
      "text/plain": [
       "<Figure size 640x480 with 1 Axes>"
      ]
     },
     "metadata": {},
     "output_type": "display_data"
    }
   ],
   "source": [
    "# Plotting a result of loss and val_loss of model:\n",
    "\n",
    "plt.plot(history.history[\"loss\"])\n",
    "plt.plot(history.history[\"val_loss\"])"
   ]
  },
  {
   "cell_type": "code",
   "execution_count": 23,
   "id": "dc2985dc",
   "metadata": {},
   "outputs": [
    {
     "data": {
      "text/plain": [
       "[<matplotlib.lines.Line2D at 0x2afb47da8c0>]"
      ]
     },
     "execution_count": 23,
     "metadata": {},
     "output_type": "execute_result"
    },
    {
     "data": {
      "image/png": "[encoded data removed]",
      "text/plain": [
       "<Figure size 640x480 with 1 Axes>"
      ]
     },
     "metadata": {},
     "output_type": "display_data"
    }
   ],
   "source": [
    "# Plotting a result of accuracy and val_accuracy of model:\n",
    "\n",
    "plt.plot(history.history[\"accuracy\"])\n",
    "plt.plot(history.history[\"val_accuracy\"])\n"
   ]
  },
  {
   "cell_type": "code",
   "execution_count": 24,
   "id": "394989e6",
   "metadata": {},
   "outputs": [
    {
     "data": {
      "text/plain": [
       "(-0.5, 27.5, 27.5, -0.5)"
      ]
     },
     "execution_count": 24,
     "metadata": {},
     "output_type": "execute_result"
    },
    {
     "data": {
      "image/png": "[encoded data removed]",
      "text/plain": [
       "<Figure size 640x480 with 1 Axes>"
      ]
     },
     "metadata": {},
     "output_type": "display_data"
    }
   ],
   "source": [
    "# Displaying random image by selecting:\n",
    "\n",
    "plt.imshow(X_test[1908], cmap=\"binary\")\n",
    "plt.axis(\"off\")\n"
   ]
  },
  {
   "cell_type": "code",
   "execution_count": 25,
   "id": "0ef4902e",
   "metadata": {},
   "outputs": [
    {
     "name": "stdout",
     "output_type": "stream",
     "text": [
      "1/1 [==============================] - 0s 45ms/step\n",
      "Predicted Number: [6]\n"
     ]
    }
   ],
   "source": [
    "# Will show the prediction of the image we choose earliar:\n",
    "\n",
    "Predicted_Number = model.predict(np.array([X_test[1908]]))\n",
    "Predicted_Number = np.argmax(Predicted_Number,axis=1)\n",
    "print(f\"Predicted Number:\",Predicted_Number)\n"
   ]
  }
 ],
 "metadata": {
  "kernelspec": {
   "display_name": "Python 3 (ipykernel)",
   "language": "python",
   "name": "python3"
  },
  "language_info": {
   "codemirror_mode": {
    "name": "ipython",
    "version": 3
   },
   "file_extension": ".py",
   "mimetype": "text/x-python",
   "name": "python",
   "nbconvert_exporter": "python",
   "pygments_lexer": "ipython3",
   "version": "3.10.9"
  }
 },
 "nbformat": 4,
 "nbformat_minor": 5
}
